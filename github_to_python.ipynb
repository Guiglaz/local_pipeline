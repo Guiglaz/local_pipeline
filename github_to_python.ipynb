{
 "cells": [
  {
   "cell_type": "code",
   "execution_count": 1,
   "id": "ab1d8ce0",
   "metadata": {},
   "outputs": [
    {
     "name": "stdout",
     "output_type": "stream",
     "text": [
      "Defaulting to user installation because normal site-packages is not writeable\n",
      "Requirement already satisfied: PyGithub in c:\\users\\gglaziou\\appdata\\roaming\\python\\python39\\site-packages (1.58.1)\n",
      "Requirement already satisfied: pyjwt[crypto]>=2.4.0 in c:\\programdata\\anaconda3\\lib\\site-packages (from PyGithub) (2.4.0)\n",
      "Requirement already satisfied: deprecated in c:\\users\\gglaziou\\appdata\\roaming\\python\\python39\\site-packages (from PyGithub) (1.2.13)\n",
      "Requirement already satisfied: pynacl>=1.4.0 in c:\\programdata\\anaconda3\\lib\\site-packages (from PyGithub) (1.5.0)\n",
      "Requirement already satisfied: requests>=2.14.0 in c:\\programdata\\anaconda3\\lib\\site-packages (from PyGithub) (2.28.1)\n",
      "Requirement already satisfied: cryptography>=3.3.1 in c:\\programdata\\anaconda3\\lib\\site-packages (from pyjwt[crypto]>=2.4.0->PyGithub) (39.0.1)\n",
      "Requirement already satisfied: cffi>=1.4.1 in c:\\programdata\\anaconda3\\lib\\site-packages (from pynacl>=1.4.0->PyGithub) (1.15.1)\n",
      "Requirement already satisfied: idna<4,>=2.5 in c:\\programdata\\anaconda3\\lib\\site-packages (from requests>=2.14.0->PyGithub) (3.4)\n",
      "Requirement already satisfied: charset-normalizer<3,>=2 in c:\\programdata\\anaconda3\\lib\\site-packages (from requests>=2.14.0->PyGithub) (2.0.4)\n",
      "Requirement already satisfied: certifi>=2017.4.17 in c:\\programdata\\anaconda3\\lib\\site-packages (from requests>=2.14.0->PyGithub) (2022.12.7)\n",
      "Requirement already satisfied: urllib3<1.27,>=1.21.1 in c:\\programdata\\anaconda3\\lib\\site-packages (from requests>=2.14.0->PyGithub) (1.26.14)\n",
      "Requirement already satisfied: wrapt<2,>=1.10 in c:\\programdata\\anaconda3\\lib\\site-packages (from deprecated->PyGithub) (1.14.1)\n",
      "Requirement already satisfied: pycparser in c:\\programdata\\anaconda3\\lib\\site-packages (from cffi>=1.4.1->pynacl>=1.4.0->PyGithub) (2.21)\n",
      "Note: you may need to restart the kernel to use updated packages.\n"
     ]
    }
   ],
   "source": [
    "pip install PyGithub"
   ]
  },
  {
   "cell_type": "code",
   "execution_count": null,
   "id": "d30191c4",
   "metadata": {},
   "outputs": [],
   "source": [
    "\"\"\"\n",
    "Downloads folders from github repo\n",
    "Requires PyGithub\n",
    "pip install PyGithub\n",
    "\"\"\"\n",
    "\n",
    "\n",
    "def get_sha_for_tag(repository: Repository, tag: str) -> str:\n",
    "    \"\"\"\n",
    "    Returns a commit PyGithub object for the specified repository and tag.\n",
    "    \"\"\"\n",
    "    branches = repository.get_branches()\n",
    "    matched_branches = [match for match in branches if match.name == tag]\n",
    "    if matched_branches:\n",
    "        return matched_branches[0].commit.sha\n",
    "\n",
    "    tags = repository.get_tags()\n",
    "    matched_tags = [match for match in tags if match.name == tag]\n",
    "    if not matched_tags:\n",
    "        raise ValueError(\"No Tag or Branch exists with that name\")\n",
    "    return matched_tags[0].commit.sha\n",
    "\n",
    "\n",
    "def download_directory(repository: Repository, sha: str, server_path: str) -> None:\n",
    "    \"\"\"\n",
    "    Download all contents at server_path with commit tag sha in\n",
    "    the repository.\n",
    "    \"\"\"\n",
    "    if os.path.exists(server_path):\n",
    "        shutil.rmtree(server_path)\n",
    "\n",
    "    os.makedirs(server_path)\n",
    "    contents = repository.get_dir_contents(server_path, ref=sha)\n",
    "\n",
    "    for content in contents:\n",
    "        print(\"Processing %s\" % content.path)\n",
    "        if content.type == \"dir\":\n",
    "            os.makedirs(content.path)\n",
    "            download_directory(repository, sha, content.path)\n",
    "        else:\n",
    "            try:\n",
    "                path = content.path\n",
    "                file_content = repository.get_contents(path, ref=sha)\n",
    "                if not isinstance(file_content, ContentFile):\n",
    "                    raise ValueError(\"Expected ContentFile\")\n",
    "                file_out = open(content.path, \"w+\")\n",
    "                if file_content.content:\n",
    "                    file_data = base64.b64decode(file_content.content)\n",
    "                    file_out.write(file_data.decode(\"utf-8\"))\n",
    "                file_out.close()\n",
    "            except (GithubException, IOError, ValueError) as exc:\n",
    "                print(\"Error processing %s: %s\", content.path, exc)\n",
    "\n",
    "\n",
    "def usage():\n",
    "    \"\"\"\n",
    "    Prints the usage command lines\n",
    "    \"\"\"\n",
    "    print(\"usage: gh-download --repo=repo --branch=branch --folder=folder\")\n",
    "\n",
    "\n",
    "def main(argv):\n",
    "    \"\"\"\n",
    "    Main function block\n",
    "    \"\"\"\n",
    "    try:\n",
    "        opts, _ = getopt.getopt(argv, \"r:b:f:\", [\"repo=\", \"branch=\", \"folder=\"])\n",
    "    except getopt.GetoptError as err:\n",
    "        print(str(err))\n",
    "        usage()\n",
    "        sys.exit(2)\n",
    "    repo: Optional[str] = None\n",
    "    branch: Optional[str] = None\n",
    "    folder: Optional[str] = None\n",
    "    for opt, arg in opts:\n",
    "        if opt in (\"-r\", \"--repo\"):\n",
    "            repo = arg\n",
    "        elif opt in (\"-b\", \"--branch\"):\n",
    "            branch = arg\n",
    "        elif opt in (\"-f\", \"--folder\"):\n",
    "            folder = arg\n",
    "\n",
    "    if not repo:\n",
    "        print(\"Repo is required\")\n",
    "        usage()\n",
    "        sys.exit(2)\n",
    "    if not branch:\n",
    "        print(\"Branch is required\")\n",
    "        usage()\n",
    "        sys.exit(2)\n",
    "    if not folder:\n",
    "        print(\"Folder is required\")\n",
    "        usage()\n",
    "        sys.exit(2)\n",
    "\n",
    "    github = Github(None)\n",
    "    repository = github.get_repo(repo)\n",
    "    sha = get_sha_for_tag(repository, branch)\n",
    "    download_directory(repository, sha, folder)\n",
    "    "
   ]
  },
  {
   "cell_type": "code",
   "execution_count": 1,
   "id": "2604ef85",
   "metadata": {},
   "outputs": [],
   "source": [
    "import base64\n",
    "import getopt\n",
    "import os\n",
    "import shutil\n",
    "import sys\n",
    "from typing import Optional\n",
    "\n",
    "from github import Github, GithubException\n",
    "from github.ContentFile import ContentFile\n",
    "from github.Repository import Repository"
   ]
  },
  {
   "cell_type": "code",
   "execution_count": 2,
   "id": "55598bec",
   "metadata": {},
   "outputs": [],
   "source": [
    "g = Github(None)\n",
    "repo = g.get_repo(\"retinal-information-processing-lab/Standard_analysis_pipeline\")"
   ]
  },
  {
   "cell_type": "code",
   "execution_count": 3,
   "id": "6eb26279",
   "metadata": {},
   "outputs": [],
   "source": [
    "contents = repo.get_contents(\"\")"
   ]
  },
  {
   "cell_type": "code",
   "execution_count": 5,
   "id": "09ef456d",
   "metadata": {},
   "outputs": [
    {
     "name": "stdout",
     "output_type": "stream",
     "text": [
      "ContentFile(path=\"1-Preprocessing.ipynb\")\n",
      "ContentFile(path=\"2-Analyse_Checkerboard.ipynb\")\n",
      "ContentFile(path=\"3-Drifting_Gratings.ipynb\")\n",
      "ContentFile(path=\"4-Chirp+Cell Typing.ipynb\")\n",
      "ContentFile(path=\"5_Cell_ID_card.ipynb\")\n",
      "ContentFile(path=\"6-FullField_Flash(Before_&_After_Drug).ipynb\")\n",
      "ContentFile(path=\"7_Registration_code.ipynb\")\n",
      "ContentFile(path=\"8_Optogenetic_Holography.ipynb\")\n",
      "ContentFile(path=\"EulerStim180530.vec\")\n",
      "ContentFile(path=\"Euler_50Hz_20reps_1024x768pix.vec\")\n",
      "ContentFile(path=\"README.md\")\n",
      "ContentFile(path=\"params.py\")\n",
      "ContentFile(path=\"utils.py\")\n"
     ]
    }
   ],
   "source": [
    "for content_file in contents:\n",
    "    print(content_file)"
   ]
  },
  {
   "cell_type": "code",
   "execution_count": 10,
   "id": "0f3c89ef",
   "metadata": {},
   "outputs": [],
   "source": [
    "def download_directory(repository, path):\n",
    "    g = Github(None)\n",
    "    repo = g.get_repo(\"retinal-information-processing-lab/Standard_analysis_pipeline\")\n",
    "    contents = repo.get_contents(\"\")\n",
    "    for content in contents:\n",
    "            print(\"Processing %s\" % content.path)\n",
    "            if content.type == \"dir\":\n",
    "                os.makedirs(content.path)\n",
    "                download_directory(repository, content.path)\n",
    "            else:\n",
    "                try:\n",
    "                    path = content.path\n",
    "                    file_content = repository.get_contents(path, ref=sha)\n",
    "                    if not isinstance(file_content, ContentFile):\n",
    "                        raise ValueError(\"Expected ContentFile\")\n",
    "                    file_out = open(content.path, \"w+\")\n",
    "                    if file_content.content:\n",
    "                        file_data = base64.b64decode(file_content.content)\n",
    "                        file_out.write(file_data.decode(\"utf-8\"))\n",
    "                    file_out.close()\n",
    "                except (GithubException, IOError, ValueError) as exc:\n",
    "                    print(\"Error processing %s: %s\", content.path, exc)\n"
   ]
  },
  {
   "cell_type": "code",
   "execution_count": null,
   "id": "1cf78242",
   "metadata": {},
   "outputs": [],
   "source": []
  }
 ],
 "metadata": {
  "kernelspec": {
   "display_name": "Python 3 (ipykernel)",
   "language": "python",
   "name": "python3"
  },
  "language_info": {
   "codemirror_mode": {
    "name": "ipython",
    "version": 3
   },
   "file_extension": ".py",
   "mimetype": "text/x-python",
   "name": "python",
   "nbconvert_exporter": "python",
   "pygments_lexer": "ipython3",
   "version": "3.9.16"
  }
 },
 "nbformat": 4,
 "nbformat_minor": 5
}
